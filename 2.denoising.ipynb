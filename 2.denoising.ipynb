{
 "cells": [
  {
   "attachments": {},
   "cell_type": "markdown",
   "metadata": {},
   "source": [
    "Here we tidy up the data using dada2 for denoising, and a variety of summarization and filtering."
   ]
  },
  {
   "attachments": {},
   "cell_type": "markdown",
   "metadata": {},
   "source": [
    "Choose path or make sure you are in the right folder"
   ]
  },
  {
   "cell_type": "code",
   "execution_count": null,
   "metadata": {},
   "outputs": [],
   "source": [
    "import os\n",
    "os.chdir(<your path>)"
   ]
  },
  {
   "attachments": {},
   "cell_type": "markdown",
   "metadata": {},
   "source": [
    "Denoising with dada2.\n",
    "\n",
    " - input the data created in the data import code\n",
    " - trim according to the primers that you have used\n",
    " - truncate according to the quality plots\n",
    " - output representative sequences\n",
    " - output a dada2 feature table\n",
    " - define how many threads you want to use. Useful for big data if you have many cores\n",
    " - output the denoising stats "
   ]
  },
  {
   "cell_type": "code",
   "execution_count": null,
   "metadata": {},
   "outputs": [],
   "source": [
    "\n",
    "!qiime dada2 denoise-paired \\\n",
    "--i-demultiplexed-seqs demux-paired-end.qza \\\n",
    "--p-trim-left-f <value> \\\n",
    "--p-trim-left-r <value> \\\n",
    "--p-trunc-len-f <value> \\\n",
    "--p-trunc-len-r <value> \\\n",
    "--o-representative-sequences rep-seqs-dada2.qza \\\n",
    "--o-table dada2-table.qza \\\n",
    "--p-n-threads <value> \\\n",
    "--o-denoising-stats dada2-stats.qza"
   ]
  },
  {
   "attachments": {},
   "cell_type": "markdown",
   "metadata": {},
   "source": [
    "Summarize and visualize the feature table. Include the metadata file when you summarize."
   ]
  },
  {
   "cell_type": "code",
   "execution_count": null,
   "metadata": {},
   "outputs": [],
   "source": [
    "!qiime feature-table summarize \\\n",
    "--i-table dada2-table.qza \\\n",
    "--o-visualization dada2-table.qzv \\\n",
    "--m-sample-metadata-file <your-sample-metadata.tsv>"
   ]
  },
  {
   "attachments": {},
   "cell_type": "markdown",
   "metadata": {},
   "source": [
    "Visualize the representative sequences"
   ]
  },
  {
   "cell_type": "code",
   "execution_count": null,
   "metadata": {},
   "outputs": [],
   "source": [
    "!qiime feature-table tabulate-seqs \\\n",
    "--i-data rep-seqs-dada2.qza \\\n",
    "--o-visualization rep-seqs-dada2.qzv"
   ]
  },
  {
   "attachments": {},
   "cell_type": "markdown",
   "metadata": {},
   "source": [
    "Typically, OTUs/ASVs with few reads are removed for quality purposes.\n",
    "\n",
    "You can use the dada2 feature table produced above and the list of reads per sample, listed in the \"demux-paired-end.qzv\" from the previous section, as a guide to evaluate what threshold to use according to your data. Again, it is possible to save a csv of the visualization."
   ]
  },
  {
   "cell_type": "code",
   "execution_count": null,
   "metadata": {},
   "outputs": [],
   "source": [
    "from qiime2 import Visualization"
   ]
  },
  {
   "cell_type": "code",
   "execution_count": null,
   "metadata": {},
   "outputs": [],
   "source": [
    "Visualization.load('dada2-table.qzv')"
   ]
  },
  {
   "attachments": {},
   "cell_type": "markdown",
   "metadata": {},
   "source": [
    "Based on the information on your dataset, define a minimum frequency or number of reads per feature ID. This filtrates the dada2 feature table and saves it with the prefix \"minreads\"."
   ]
  },
  {
   "cell_type": "code",
   "execution_count": null,
   "metadata": {},
   "outputs": [],
   "source": [
    "!qiime feature-table filter-features \\\n",
    "--i-table dada2-table.qza \\\n",
    "--p-min-frequency <value> \\\n",
    "--o-filtered-table minreads-dada2-table.qza"
   ]
  },
  {
   "attachments": {},
   "cell_type": "markdown",
   "metadata": {},
   "source": [
    "Below, data are summarized again and visualized to see how the filtration affected the feature table."
   ]
  },
  {
   "cell_type": "code",
   "execution_count": null,
   "metadata": {},
   "outputs": [],
   "source": [
    "!qiime feature-table summarize \\\n",
    "--i-table minreads-dada2-table.qza \\\n",
    "--o-visualization minreads-dada2-table.qzv \\\n",
    "--m-sample-metadata-file sample-metadata.tsv"
   ]
  },
  {
   "cell_type": "code",
   "execution_count": null,
   "metadata": {},
   "outputs": [],
   "source": [
    "from qiime2 import Visualization"
   ]
  },
  {
   "cell_type": "code",
   "execution_count": null,
   "metadata": {},
   "outputs": [],
   "source": [
    "Visualization.load('minreads-dada2-table.qzv')"
   ]
  }
 ],
 "metadata": {
  "kernelspec": {
   "display_name": "Python 3",
   "language": "python",
   "name": "python3"
  },
  "language_info": {
   "codemirror_mode": {
    "name": "ipython",
    "version": 3
   },
   "file_extension": ".py",
   "mimetype": "text/x-python",
   "name": "python",
   "nbconvert_exporter": "python",
   "pygments_lexer": "ipython3",
   "version": "3.8.10 (tags/v3.8.10:3d8993a, May  3 2021, 11:48:03) [MSC v.1928 64 bit (AMD64)]"
  },
  "vscode": {
   "interpreter": {
    "hash": "efefcbe672523697b5c5792cab585458409d111dc9b6b5b4f840185bab54cdb6"
   }
  }
 },
 "nbformat": 4,
 "nbformat_minor": 4
}
