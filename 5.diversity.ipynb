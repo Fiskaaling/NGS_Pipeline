{
 "cells": [
  {
   "attachments": {},
   "cell_type": "markdown",
   "metadata": {},
   "source": [
    "Here we create phylogenetic trees and calculate diversity core metrics for our data.\n",
    "\n",
    "Define your path"
   ]
  },
  {
   "cell_type": "code",
   "execution_count": null,
   "metadata": {},
   "outputs": [],
   "source": [
    "import os\n",
    "os.chdir(<your path>)"
   ]
  },
  {
   "attachments": {},
   "cell_type": "markdown",
   "metadata": {},
   "source": [
    "Align the representative sequences to build your tree. These may be filtered or not depending on your needs."
   ]
  },
  {
   "cell_type": "code",
   "execution_count": null,
   "metadata": {},
   "outputs": [],
   "source": [
    "!qiime alignment mafft \\\n",
    "--i-sequences <xx-rep-seqs.qza> \\\n",
    "--o-alignment <xx-aligned.qza>"
   ]
  },
  {
   "attachments": {},
   "cell_type": "markdown",
   "metadata": {},
   "source": [
    "Mask the aligned sequences. This masks the sequences that are low complexity or otherwise suspected of being low quality. "
   ]
  },
  {
   "cell_type": "code",
   "execution_count": null,
   "metadata": {},
   "outputs": [],
   "source": [
    "!qiime alignment mask \\\n",
    "--i-alignment <xx-aligned.qza> \\\n",
    "--o-masked-alignment <xx-masked-aligned.qza>"
   ]
  },
  {
   "attachments": {},
   "cell_type": "markdown",
   "metadata": {},
   "source": [
    "Make an unrooted phylogenetic tree based on your aligned and masked data"
   ]
  },
  {
   "cell_type": "code",
   "execution_count": null,
   "metadata": {},
   "outputs": [],
   "source": [
    "!qiime phylogeny fasttree \\\n",
    "--i-alignment <xx-masked-aligned.qza> \\\n",
    "--o-tree <xx-unrooted-tree.qza>"
   ]
  },
  {
   "attachments": {},
   "cell_type": "markdown",
   "metadata": {},
   "source": [
    "Make a rooted tree from the unrooted tree"
   ]
  },
  {
   "cell_type": "code",
   "execution_count": null,
   "metadata": {},
   "outputs": [],
   "source": [
    "!qiime phylogeny midpoint-root \\\n",
    "--i-tree <xx-unrooted-tree.qza> \\\n",
    "--o-rooted-tree <xx-rooted-tree.qza>"
   ]
  },
  {
   "attachments": {},
   "cell_type": "markdown",
   "metadata": {},
   "source": [
    "In order to calculate diversity metrics, we will use a dada2 feature table. This one can be filtrated and should probably at least be your minreads table.\n",
    "\n",
    "The number reads per sample shown in your table can be used to define max sequencing depth in the alpha rarefaction plot below."
   ]
  },
  {
   "cell_type": "code",
   "execution_count": null,
   "metadata": {},
   "outputs": [],
   "source": [
    "from qiime2 import Visualization"
   ]
  },
  {
   "cell_type": "code",
   "execution_count": null,
   "metadata": {},
   "outputs": [],
   "source": [
    "Visualization.load('<xx-table.qzv>')"
   ]
  },
  {
   "attachments": {},
   "cell_type": "markdown",
   "metadata": {},
   "source": [
    "To perform alpha rarefaction including phylogenetic data, choose the table of interest, rooted tree, and sample metadata. This can also be done without the phylogenetic data.\n",
    "\n",
    " - input your table\n",
    " - input your rooted tree\n",
    " - the max sequencing depth of your choice\n",
    " - your sample metadata file\n",
    " - name the output"
   ]
  },
  {
   "cell_type": "code",
   "execution_count": null,
   "metadata": {},
   "outputs": [],
   "source": [
    "!qiime diversity alpha-rarefaction \\\n",
    "--i-table <xx-table.qza> \\\n",
    "--i-phylogeny <xx-rooted-tree.qza> \\\n",
    "--p-max-depth <your value> \\\n",
    "--m-metadata-file <your-sample-metadata.tsv> \\\n",
    "--o-visualization <xx-alpha-rarefaction.qzv>"
   ]
  },
  {
   "attachments": {},
   "cell_type": "markdown",
   "metadata": {},
   "source": [
    "Visualise the produced rarefaction curves"
   ]
  },
  {
   "cell_type": "code",
   "execution_count": null,
   "metadata": {},
   "outputs": [],
   "source": [
    "from qiime2 import Visualization"
   ]
  },
  {
   "cell_type": "code",
   "execution_count": null,
   "metadata": {},
   "outputs": [],
   "source": [
    "Visualization.load('<xx-alpha-rarefaction.qzv>')"
   ]
  },
  {
   "attachments": {},
   "cell_type": "markdown",
   "metadata": {},
   "source": [
    "Compute core diversity metrics. The standard output includes:\n",
    "\n",
    " - Alpha diversity\n",
    "    - Faith pd\n",
    "    - Observed features\n",
    "    - Shannon\n",
    "    - Evenness\n",
    " - Distance matrices and PCOA results with emperor plots\n",
    "    - Unweighted UniFrac\n",
    "    - Weighted UniFrac\n",
    "    - Jaccard\n",
    "    - Bray-Curtis\n",
    " \n",
    "Use the rarefaction curves to determine a sampling depth.\n",
    "\n",
    " - input your rooted tree\n",
    " - input your table\n",
    " - define sampling depth\n",
    " - input your sample metadata\n",
    " - name your output directory\n",
    "\n"
   ]
  },
  {
   "cell_type": "code",
   "execution_count": null,
   "metadata": {},
   "outputs": [],
   "source": [
    "!qiime diversity core-metrics-phylogenetic \\\n",
    "--i-phylogeny <xx-rooted-tree.qza> \\\n",
    "--i-table <xx-table.qza> \\\n",
    "--p-sampling-depth <your value> \\\n",
    "--m-metadata-file <your-sample-metadata.tsv> \\\n",
    "--output-dir <xx-core-metrics-results>"
   ]
  },
  {
   "cell_type": "code",
   "execution_count": null,
   "metadata": {},
   "outputs": [],
   "source": [
    "from qiime2 import Visualization"
   ]
  },
  {
   "attachments": {},
   "cell_type": "markdown",
   "metadata": {},
   "source": [
    "The emperor plots are interactive, allowing you to turn the axes and also change shape, size, and colour."
   ]
  },
  {
   "cell_type": "code",
   "execution_count": null,
   "metadata": {},
   "outputs": [],
   "source": [
    "Visualization.load('xx-core-metrics-results/unweighted_unifrac_emperor.qzv')"
   ]
  },
  {
   "cell_type": "code",
   "execution_count": null,
   "metadata": {},
   "outputs": [],
   "source": [
    "Visualization.load('xx-core-metrics-results/weighted_unifrac_emperor.qzv')"
   ]
  },
  {
   "cell_type": "code",
   "execution_count": null,
   "metadata": {},
   "outputs": [],
   "source": [
    "Visualization.load('xx-core-metrics-results/jaccard_emperor.qzv')"
   ]
  },
  {
   "cell_type": "code",
   "execution_count": null,
   "metadata": {},
   "outputs": [],
   "source": [
    "Visualization.load('xx-core-metrics-results/bray_curtis_emperor.qzv')"
   ]
  }
 ],
 "metadata": {
  "kernelspec": {
   "display_name": "Python 3",
   "language": "python",
   "name": "python3"
  },
  "language_info": {
   "codemirror_mode": {
    "name": "ipython",
    "version": 3
   },
   "file_extension": ".py",
   "mimetype": "text/x-python",
   "name": "python",
   "nbconvert_exporter": "python",
   "pygments_lexer": "ipython3",
   "version": "3.8.10 (tags/v3.8.10:3d8993a, May  3 2021, 11:48:03) [MSC v.1928 64 bit (AMD64)]"
  },
  "vscode": {
   "interpreter": {
    "hash": "efefcbe672523697b5c5792cab585458409d111dc9b6b5b4f840185bab54cdb6"
   }
  }
 },
 "nbformat": 4,
 "nbformat_minor": 4
}
