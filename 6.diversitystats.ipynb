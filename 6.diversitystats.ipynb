{
 "cells": [
  {
   "attachments": {},
   "cell_type": "markdown",
   "id": "278cc99d",
   "metadata": {},
   "source": [
    "Here we carry out a selection of statistical analysis. The first analysis carried out is Adonis, which is based on distance matrices calculated in \"5.diversity.ipynb\".\n",
    "\n",
    " - input your distance matrix of choice\n",
    " - input your sample metadata file\n",
    " - the predictor of choice (from your sample metadata file)\n",
    " - name the output and save it in the directory of your choice"
   ]
  },
  {
   "cell_type": "code",
   "execution_count": null,
   "id": "handed-prison",
   "metadata": {},
   "outputs": [],
   "source": [
    "!qiime diversity adonis \\\n",
    "--i-distance-matrix <xx-core-metrics-results/xx_distance_matrix.qza> \\\n",
    "--m-metadata-file <your-sample-metadata.tsv> \\\n",
    "--p-formula <\"Parameter xx\"> \\\n",
    "--o-visualization <xx-core-metrics-results/xx-adonis.qzv>"
   ]
  },
  {
   "attachments": {},
   "cell_type": "markdown",
   "id": "47a3b9ca",
   "metadata": {},
   "source": [
    "Visualise and download Adonis results. These results are a statistical output table."
   ]
  },
  {
   "cell_type": "code",
   "execution_count": null,
   "id": "lonely-mountain",
   "metadata": {},
   "outputs": [],
   "source": [
    "from qiime2 import Visualization"
   ]
  },
  {
   "cell_type": "code",
   "execution_count": null,
   "id": "sustained-technical",
   "metadata": {},
   "outputs": [],
   "source": [
    "Visualization.load('xx-core-metrics-results/xx-adonis.qzv')"
   ]
  },
  {
   "attachments": {},
   "cell_type": "markdown",
   "id": "7e123d0a",
   "metadata": {},
   "source": [
    "Here you can run a permanova for Beta group significance.\n",
    "\n",
    " - input your distance matrix of choice\n",
    " - input your sample metadata file\n",
    " - the metadata column (predictor variable)\n",
    " - the method, in this case permanova\n",
    " - pairwise, in this case TRUE\n",
    " - name your output"
   ]
  },
  {
   "cell_type": "code",
   "execution_count": null,
   "id": "super-fellow",
   "metadata": {},
   "outputs": [],
   "source": [
    "!qiime diversity beta-group-significance \\\n",
    "--i-distance-matrix <xx-core-metrics-results/xx_distance_matrix.qza> \\\n",
    "--m-metadata-file <your-sample-metadata.tsv> \\\n",
    "--m-metadata-column <\"Parameter xx\"> \\\n",
    "--p-method \"permanova\" \\\n",
    "--p-pairwise True \\\n",
    "--o-visualization <xx-core-metrics-results/xx-betapair.qzv>"
   ]
  },
  {
   "attachments": {},
   "cell_type": "markdown",
   "id": "9023416f",
   "metadata": {},
   "source": [
    "Visualise and download permanova results table."
   ]
  },
  {
   "cell_type": "code",
   "execution_count": null,
   "id": "executed-knock",
   "metadata": {},
   "outputs": [],
   "source": [
    "from qiime2 import Visualization"
   ]
  },
  {
   "cell_type": "code",
   "execution_count": null,
   "id": "impressive-indonesia",
   "metadata": {},
   "outputs": [],
   "source": [
    "Visualization.load(<'xx-core-metrics-results/xx-betapair.qzv'>)"
   ]
  }
 ],
 "metadata": {
  "kernelspec": {
   "display_name": "Python 3",
   "language": "python",
   "name": "python3"
  },
  "language_info": {
   "codemirror_mode": {
    "name": "ipython",
    "version": 3
   },
   "file_extension": ".py",
   "mimetype": "text/x-python",
   "name": "python",
   "nbconvert_exporter": "python",
   "pygments_lexer": "ipython3",
   "version": "3.8.10 (tags/v3.8.10:3d8993a, May  3 2021, 11:48:03) [MSC v.1928 64 bit (AMD64)]"
  },
  "vscode": {
   "interpreter": {
    "hash": "efefcbe672523697b5c5792cab585458409d111dc9b6b5b4f840185bab54cdb6"
   }
  }
 },
 "nbformat": 4,
 "nbformat_minor": 5
}
