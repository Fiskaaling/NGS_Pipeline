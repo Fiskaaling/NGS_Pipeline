{
 "cells": [
  {
   "attachments": {},
   "cell_type": "markdown",
   "metadata": {},
   "source": [
    "Here are examples for filtering feature tables and subsequently rep-seqs.\n",
    "Tables are filtered using both including and excluding methods based on metadata.\n",
    "Taxonomy based filtering is demonstrated in the final cells.\n",
    "\n",
    "Define your path"
   ]
  },
  {
   "cell_type": "code",
   "execution_count": null,
   "metadata": {},
   "outputs": [],
   "source": [
    "import os\n",
    "os.chdir(<your path>)"
   ]
  },
  {
   "attachments": {},
   "cell_type": "markdown",
   "metadata": {},
   "source": [
    "Filter your reads based on sample metadata (include reads):\n",
    "\n",
    " - use your filtered dada2 table\n",
    " - use your metadata file\n",
    " - filter based on column in your metadata with specific values (these rows are kept)\n",
    " - name your output file"
   ]
  },
  {
   "cell_type": "code",
   "execution_count": null,
   "metadata": {},
   "outputs": [],
   "source": [
    "!qiime feature-table filter-samples \\\n",
    "--i-table minreads-dada2-table.qza \\\n",
    "--m-metadata-file <your-sample-metadata.tsv> \\\n",
    "--p-where \"<[column name]='xx'>\" \\\n",
    "--o-filtered-table <xx-filtered-table.qza>"
   ]
  },
  {
   "attachments": {},
   "cell_type": "markdown",
   "metadata": {},
   "source": [
    "Filter your reads based on sample metadata (exclude reads):\n",
    "\n",
    " - use your minreads table\n",
    " - your metadata file\n",
    " - state the defined reads that should be excluded\n",
    " - define which reads to filter on (in this case all rows with A-E in \"column name\" should be excluded)\n",
    " - name your output"
   ]
  },
  {
   "cell_type": "code",
   "execution_count": null,
   "metadata": {},
   "outputs": [],
   "source": [
    "!qiime feature-table filter-samples \\\n",
    "--i-table minreads-dada2-table.qza \\\n",
    "--m-metadata-file <your-sample-metadata.tsv> \\\n",
    "--p-exclude-ids \\\n",
    "--p-where \"<[column name] IN ('A', 'B', 'C', 'D', 'E')>\" \\\n",
    "--o-filtered-table <xx-filtered-table.qza>"
   ]
  },
  {
   "attachments": {},
   "cell_type": "markdown",
   "metadata": {},
   "source": [
    "Summarize your filtered table and create a visualization."
   ]
  },
  {
   "cell_type": "code",
   "execution_count": null,
   "metadata": {},
   "outputs": [],
   "source": [
    "!qiime feature-table summarize \\\n",
    "--i-table <xx-filtered-table.qza \\\n",
    "--o-visualization <xx-filtered-table.qzv>"
   ]
  },
  {
   "attachments": {},
   "cell_type": "markdown",
   "metadata": {},
   "source": [
    "After filtrating your table, you can use this to filter your representative sequences:\n",
    "\n",
    " - input your representative sequences\n",
    " - input your filtered table\n",
    " - name your output"
   ]
  },
  {
   "cell_type": "code",
   "execution_count": null,
   "metadata": {},
   "outputs": [],
   "source": [
    "!qiime feature-table filter-seqs \\\n",
    "--i-data rep-seqs-dada2.qza \\\n",
    "--i-table <xx-filtered-table.qza> \\\n",
    "--o-filtered-data <xx-filtered-rep-seqs.qza>"
   ]
  },
  {
   "attachments": {},
   "cell_type": "markdown",
   "metadata": {},
   "source": [
    "Rather than filtering on sample metadata, you can filter on taxonomy\n",
    "\n",
    " - input your minreads table\n",
    " - input your taxonomy file\n",
    " - define what to exclude\n",
    " - name your output"
   ]
  },
  {
   "cell_type": "code",
   "execution_count": null,
   "metadata": {},
   "outputs": [],
   "source": [
    "!qiime taxa filter-table \\\n",
    "--i-table <minreads-dada2-table.qza> \\\n",
    "--i-taxonomy <xx-taxonomy-rescript.qza> \\\n",
    "--p-exclude <TaxonA,TaxonB,TaxonC> \\\n",
    "--o-filtered-table <xx-filtered-tax-table.qza>"
   ]
  },
  {
   "attachments": {},
   "cell_type": "markdown",
   "metadata": {},
   "source": [
    "You can then also filter your sequences based on the taxonomically filtered table:\n",
    "\n",
    " - input your representative sequences\n",
    " - input you taxonomy filtered table\n",
    " - name your output"
   ]
  },
  {
   "cell_type": "code",
   "execution_count": null,
   "metadata": {},
   "outputs": [],
   "source": [
    "!qiime feature-table filter-seqs \\\n",
    "--i-data <rep-seqs-dada2.qza> \\\n",
    "--i-table <xx-filtered-tax-table.qza> \\\n",
    "--o-filtered-data <xx-filtered-tax-rep-seqs.qza>"
   ]
  }
 ],
 "metadata": {
  "kernelspec": {
   "display_name": "Python 3",
   "language": "python",
   "name": "python3"
  },
  "language_info": {
   "codemirror_mode": {
    "name": "ipython",
    "version": 3
   },
   "file_extension": ".py",
   "mimetype": "text/x-python",
   "name": "python",
   "nbconvert_exporter": "python",
   "pygments_lexer": "ipython3",
   "version": "3.8.10 (tags/v3.8.10:3d8993a, May  3 2021, 11:48:03) [MSC v.1928 64 bit (AMD64)]"
  },
  "vscode": {
   "interpreter": {
    "hash": "efefcbe672523697b5c5792cab585458409d111dc9b6b5b4f840185bab54cdb6"
   }
  }
 },
 "nbformat": 4,
 "nbformat_minor": 4
}
