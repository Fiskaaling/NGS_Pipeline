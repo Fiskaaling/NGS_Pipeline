{
 "cells": [
  {
   "attachments": {},
   "cell_type": "markdown",
   "metadata": {},
   "source": [
    "Here we add taxonomic information to our representative sequences. This is based on a pretrained classifier, in this case one created from a Silva reference database. Use a suitable classifier based on the primers that you have used and the taxa of interest."
   ]
  },
  {
   "attachments": {},
   "cell_type": "markdown",
   "metadata": {},
   "source": [
    "Define your path"
   ]
  },
  {
   "cell_type": "code",
   "execution_count": null,
   "metadata": {},
   "outputs": [],
   "source": [
    "\n",
    "import os\n",
    "os.chdir(<your path>)"
   ]
  },
  {
   "attachments": {},
   "cell_type": "markdown",
   "metadata": {},
   "source": [
    "Start by validating your classifier"
   ]
  },
  {
   "cell_type": "code",
   "execution_count": null,
   "metadata": {},
   "outputs": [],
   "source": [
    "!qiime tools validate silva-138-ssu-nr99-classifier.qza"
   ]
  },
  {
   "attachments": {},
   "cell_type": "markdown",
   "metadata": {},
   "source": [
    "Use your classifier to add taxonomic information to your representative sequences\n",
    "\n",
    " - input your validated classifier\n",
    " - input your representative sequences\n",
    " - name the output file containing the classified sequences"
   ]
  },
  {
   "cell_type": "code",
   "execution_count": null,
   "metadata": {},
   "outputs": [],
   "source": [
    "!qiime feature-classifier classify-sklearn \\\n",
    "--i-classifier silva-138-ssu-nr99-classifier.qza \\\n",
    "--i-reads rep-seqs-dada2.qza \\\n",
    "--o-classification <xx-taxonomy-rescript.qza>"
   ]
  },
  {
   "attachments": {},
   "cell_type": "markdown",
   "metadata": {},
   "source": [
    "Summarize and visualize the output from above"
   ]
  },
  {
   "cell_type": "code",
   "execution_count": null,
   "metadata": {},
   "outputs": [],
   "source": [
    "!qiime metadata tabulate \\\n",
    "--m-input-file <xx-taxonomy-rescript.qza> \\\n",
    "--o-visualization <xx-taxonomy-rescript.qzv>"
   ]
  },
  {
   "cell_type": "code",
   "execution_count": null,
   "metadata": {},
   "outputs": [],
   "source": [
    "from qiime2 import Visualization"
   ]
  },
  {
   "cell_type": "code",
   "execution_count": null,
   "metadata": {},
   "outputs": [],
   "source": [
    "Visualization.load('<xx-taxonomy-rescript.qzv>')"
   ]
  },
  {
   "attachments": {},
   "cell_type": "markdown",
   "metadata": {},
   "source": [
    "Using the taxonomy gained from the classifier and your dada2 table containing the reads, it is possible to create bar plots. These are interactive so it is possible to filter on metadata as well as looking at specific taxonomic levels. Constructing the barplot requires:\n",
    "\n",
    " - your filtered dada2 table\n",
    " - your taxonomy-rescript file\n",
    " - your metadata file"
   ]
  },
  {
   "cell_type": "code",
   "execution_count": null,
   "metadata": {},
   "outputs": [],
   "source": [
    "!qiime taxa barplot \\\n",
    "--i-table minreads-dada2-table.qza \\\n",
    "--i-taxonomy <xx-taxonomy-rescript.qza> \\\n",
    "--m-metadata-file <your-sample-metadata.tsv> \\\n",
    "--o-visualization <xx-taxa-barplots.qzv>\n"
   ]
  },
  {
   "cell_type": "code",
   "execution_count": null,
   "metadata": {},
   "outputs": [],
   "source": [
    "Visualization.load('<xx-taxa-barplots.qzv>')"
   ]
  }
 ],
 "metadata": {
  "kernelspec": {
   "display_name": "Python 3",
   "language": "python",
   "name": "python3"
  },
  "language_info": {
   "codemirror_mode": {
    "name": "ipython",
    "version": 3
   },
   "file_extension": ".py",
   "mimetype": "text/x-python",
   "name": "python",
   "nbconvert_exporter": "python",
   "pygments_lexer": "ipython3",
   "version": "3.8.10 (tags/v3.8.10:3d8993a, May  3 2021, 11:48:03) [MSC v.1928 64 bit (AMD64)]"
  },
  "vscode": {
   "interpreter": {
    "hash": "efefcbe672523697b5c5792cab585458409d111dc9b6b5b4f840185bab54cdb6"
   }
  }
 },
 "nbformat": 4,
 "nbformat_minor": 4
}
